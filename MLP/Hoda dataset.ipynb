{
  "cells": [
    {
      "cell_type": "markdown",
      "metadata": {
        "id": "mqg4KSj_8Nz1"
      },
      "source": [
        "# In this notebook, we run an MLP model on dataset hoda and examine the results in terms of underfitting, fitting and overfitting."
      ]
    },
    {
      "cell_type": "markdown",
      "metadata": {
        "id": "IVk_5eoO76sj"
      },
      "source": [
        "## Download dataset"
      ]
    },
    {
      "cell_type": "code",
      "execution_count": 1,
      "metadata": {
        "colab": {
          "base_uri": "https://localhost:8080/"
        },
        "id": "TjoQGt01Ujx1",
        "outputId": "718c616e-951a-4c3e-efe3-03c820b1df55"
      },
      "outputs": [
        {
          "name": "stderr",
          "output_type": "stream",
          "text": [
            "Downloading...\n",
            "From (uriginal): https://drive.google.com/uc?id=1QJrQsEYOfPBn1LoIeYMZ2HFBRC0AY-6F\n",
            "From (redirected): https://drive.google.com/uc?id=1QJrQsEYOfPBn1LoIeYMZ2HFBRC0AY-6F&confirm=t&uuid=3f57a77f-3ba5-4022-bca4-11f671c65821\n",
            "To: e:\\university\\semestary7\\Computational Inteligence\\Home Work\\HW2\\dataset.py\n",
            "\n",
            "  0%|          | 0.00/909 [00:00<?, ?B/s]\n",
            "100%|██████████| 909/909 [00:00<00:00, 911kB/s]\n",
            "Downloading...\n",
            "From (uriginal): https://drive.google.com/uc?id=1zStcaVl_34RrYIfVObuM4xzB6s8xwvBi\n",
            "From (redirected): https://drive.google.com/uc?id=1zStcaVl_34RrYIfVObuM4xzB6s8xwvBi&confirm=t&uuid=41d6c04c-e7f2-454b-9f0b-e8524dbe8f0b\n",
            "To: e:\\university\\semestary7\\Computational Inteligence\\Home Work\\HW2\\Data_hoda_full.mat\n",
            "\n",
            "  0%|          | 0.00/3.99M [00:00<?, ?B/s]\n",
            " 13%|█▎        | 524k/3.99M [00:03<00:24, 139kB/s]\n",
            " 26%|██▋       | 1.05M/3.99M [00:08<00:24, 119kB/s]\n",
            " 39%|███▉      | 1.57M/3.99M [00:12<00:18, 129kB/s]\n",
            " 53%|█████▎    | 2.10M/3.99M [00:15<00:13, 140kB/s]\n",
            " 66%|██████▌   | 2.62M/3.99M [00:19<00:09, 142kB/s]\n",
            " 79%|███████▉  | 3.15M/3.99M [00:24<00:07, 120kB/s]\n",
            " 92%|█████████▏| 3.67M/3.99M [00:28<00:02, 127kB/s]\n",
            "100%|██████████| 3.99M/3.99M [00:30<00:00, 135kB/s]\n",
            "100%|██████████| 3.99M/3.99M [00:30<00:00, 132kB/s]\n"
          ]
        }
      ],
      "source": [
        "!gdown --fuzzy https://drive.google.com/file/d/1QJrQsEYOfPBn1LoIeYMZ2HFBRC0AY-6F/view?usp=sharing\n",
        "!gdown --fuzzy https://drive.google.com/file/d/1zStcaVl_34RrYIfVObuM4xzB6s8xwvBi/view?usp=sharing"
      ]
    },
    {
      "cell_type": "markdown",
      "metadata": {
        "id": "ruebTHNSBqRD"
      },
      "source": [
        "## Importing libraries"
      ]
    },
    {
      "cell_type": "code",
      "execution_count": 2,
      "metadata": {
        "id": "WhoXKRptiRDe"
      },
      "outputs": [],
      "source": [
        "import keras\n",
        "import numpy as np\n",
        "import matplotlib.pyplot as plt\n",
        "\n",
        "from keras.models import Sequential\n",
        "from keras.layers import Dense,  Activation\n",
        "from dataset import load_hoda"
      ]
    },
    {
      "cell_type": "markdown",
      "metadata": {
        "id": "ku75DKlg_f9y"
      },
      "source": [
        "# Load dataset"
      ]
    },
    {
      "cell_type": "code",
      "execution_count": 3,
      "metadata": {
        "id": "4D7VhBCKiVWl"
      },
      "outputs": [],
      "source": [
        "x_train_original, y_train_original, x_test_original, y_test_original = load_hoda()"
      ]
    },
    {
      "cell_type": "markdown",
      "metadata": {
        "id": "Wruhn4AmB5zC"
      },
      "source": [
        "### Converting x_train and x_test to ndarray array format and converting y_train and y_test to one-hot-encoding:\n",
        "####First, we have defined a simple function that prints the dimensions, data type and information of the loaded dataset. We will print this information before and after data preprocessing to notice the changes!"
      ]
    },
    {
      "cell_type": "code",
      "execution_count": 4,
      "metadata": {
        "id": "nbSZTm93iVb9"
      },
      "outputs": [],
      "source": [
        "# Preprocess input data for Keras.\n",
        "x_train = np.array(x_train_original)\n",
        "y_train = keras.utils.to_categorical(y_train_original, num_classes=10)\n",
        "x_test = np.array(x_test_original)\n",
        "y_test = keras.utils.to_categorical(y_test_original, num_classes=10)"
      ]
    },
    {
      "cell_type": "code",
      "execution_count": 6,
      "metadata": {
        "id": "u5Gvz63iiVZV"
      },
      "outputs": [],
      "source": [
        "def print_data_info(x_train, y_train, x_test, y_test):\n",
        "    #Check data Type\n",
        "    print (\"\\ttype(x_train): {}\".format(type(x_train)))\n",
        "    print (\"\\ttype(y_train): {}\".format(type(y_train)))\n",
        "\n",
        "    #check data Shape\n",
        "    print (\"\\tx_train.shape: {}\".format(np.shape(x_train)))\n",
        "    print (\"\\ty_train.shape: {}\".format(np.shape(y_train)))\n",
        "    print (\"\\tx_test.shape: {}\".format(np.shape(x_test)))\n",
        "    print (\"\\ty_test.shape: {}\".format(np.shape(y_test)))\n",
        "\n",
        "    #sample data\n",
        "    print (\"\\ty_train[0]: {}\".format(y_train[0]))"
      ]
    },
    {
      "cell_type": "code",
      "execution_count": 7,
      "metadata": {
        "colab": {
          "base_uri": "https://localhost:8080/"
        },
        "id": "0C5eJsmeiVe2",
        "outputId": "569d5e83-93c3-4ab7-d6ca-29d9e9bdae50"
      },
      "outputs": [
        {
          "name": "stdout",
          "output_type": "stream",
          "text": [
            "Before Preprocessing:\n",
            "\ttype(x_train): <class 'numpy.ndarray'>\n",
            "\ttype(y_train): <class 'numpy.ndarray'>\n",
            "\tx_train.shape: (1000, 25)\n",
            "\ty_train.shape: (1000,)\n",
            "\tx_test.shape: (200, 25)\n",
            "\ty_test.shape: (200,)\n",
            "\ty_train[0]: 6\n",
            "After Preprocessing:\n",
            "\ttype(x_train): <class 'numpy.ndarray'>\n",
            "\ttype(y_train): <class 'numpy.ndarray'>\n",
            "\tx_train.shape: (1000, 25)\n",
            "\ty_train.shape: (1000, 10)\n",
            "\tx_test.shape: (200, 25)\n",
            "\ty_test.shape: (200, 10)\n",
            "\ty_train[0]: [0. 0. 0. 0. 0. 0. 1. 0. 0. 0.]\n"
          ]
        }
      ],
      "source": [
        "print(\"Before Preprocessing:\")\n",
        "print_data_info(x_train_original, y_train_original, x_test_original, y_test_original)\n",
        "print(\"After Preprocessing:\")\n",
        "print_data_info(x_train, y_train, x_test, y_test)"
      ]
    },
    {
      "cell_type": "code",
      "execution_count": 8,
      "metadata": {
        "id": "ignnQ8cqidv_"
      },
      "outputs": [],
      "source": [
        "x_train = x_train.astype('float32')\n",
        "x_test = x_test.astype('float32')\n",
        "x_train /= 255\n",
        "x_test /= 255"
      ]
    },
    {
      "cell_type": "code",
      "execution_count": 9,
      "metadata": {
        "id": "cEQisVlqidyt"
      },
      "outputs": [],
      "source": [
        "# In this Create the model, input dim=25 and output dim = 10\n",
        "\n",
        "##################################\n",
        "# you code here\n",
        "##################################\n",
        "model = Sequential()\n",
        "model.add(keras.Input(shape=(25 , )))\n",
        "model.add(Dense(15 , activation='relu'))\n",
        "model.add(Dense(10 , activation='softmax'))"
      ]
    },
    {
      "cell_type": "code",
      "execution_count": 10,
      "metadata": {
        "id": "gk4rIwjbid3W"
      },
      "outputs": [
        {
          "name": "stdout",
          "output_type": "stream",
          "text": [
            "Model: \"sequential\"\n",
            "_________________________________________________________________\n",
            " Layer (type)                Output Shape              Param #   \n",
            "=================================================================\n",
            " dense (Dense)               (None, 15)                390       \n",
            "                                                                 \n",
            " dense_1 (Dense)             (None, 10)                160       \n",
            "                                                                 \n",
            "=================================================================\n",
            "Total params: 550 (2.15 KB)\n",
            "Trainable params: 550 (2.15 KB)\n",
            "Non-trainable params: 0 (0.00 Byte)\n",
            "_________________________________________________________________\n"
          ]
        }
      ],
      "source": [
        "model.summary()"
      ]
    },
    {
      "cell_type": "markdown",
      "metadata": {
        "id": "XVBSerPdCxnL"
      },
      "source": [
        "## Compile model"
      ]
    },
    {
      "cell_type": "code",
      "execution_count": 11,
      "metadata": {
        "id": "ZJVfanv2id52"
      },
      "outputs": [],
      "source": [
        "# In this cell compile mode, set loss function and optimizer and get metrics accuracy\n",
        "\n",
        "##################################\n",
        "model.compile(optimizer='rmsprop' , loss='categorical_crossentropy' , metrics='accuracy')\n",
        "##################################"
      ]
    },
    {
      "cell_type": "markdown",
      "metadata": {
        "id": "Uz92ZcWOJFFU"
      },
      "source": [
        "## Fit model"
      ]
    },
    {
      "cell_type": "code",
      "execution_count": 12,
      "metadata": {
        "id": "ZaKtROcxinbV"
      },
      "outputs": [
        {
          "name": "stdout",
          "output_type": "stream",
          "text": [
            "Epoch 1/100\n",
            "16/16 [==============================] - 1s 19ms/step - loss: 2.2671 - accuracy: 0.1230 - val_loss: 2.2310 - val_accuracy: 0.1550\n",
            "Epoch 2/100\n",
            "16/16 [==============================] - 0s 5ms/step - loss: 2.1940 - accuracy: 0.2180 - val_loss: 2.1771 - val_accuracy: 0.1850\n",
            "Epoch 3/100\n",
            "16/16 [==============================] - 0s 4ms/step - loss: 2.1353 - accuracy: 0.2930 - val_loss: 2.1210 - val_accuracy: 0.2500\n",
            "Epoch 4/100\n",
            "16/16 [==============================] - 0s 5ms/step - loss: 2.0766 - accuracy: 0.3560 - val_loss: 2.0620 - val_accuracy: 0.3450\n",
            "Epoch 5/100\n",
            "16/16 [==============================] - 0s 5ms/step - loss: 2.0160 - accuracy: 0.4190 - val_loss: 1.9995 - val_accuracy: 0.4250\n",
            "Epoch 6/100\n",
            "16/16 [==============================] - 0s 5ms/step - loss: 1.9509 - accuracy: 0.4620 - val_loss: 1.9330 - val_accuracy: 0.4650\n",
            "Epoch 7/100\n",
            "16/16 [==============================] - 0s 4ms/step - loss: 1.8800 - accuracy: 0.5030 - val_loss: 1.8606 - val_accuracy: 0.5050\n",
            "Epoch 8/100\n",
            "16/16 [==============================] - 0s 4ms/step - loss: 1.8021 - accuracy: 0.5500 - val_loss: 1.7841 - val_accuracy: 0.5250\n",
            "Epoch 9/100\n",
            "16/16 [==============================] - 0s 4ms/step - loss: 1.7220 - accuracy: 0.5900 - val_loss: 1.7073 - val_accuracy: 0.5600\n",
            "Epoch 10/100\n",
            "16/16 [==============================] - 0s 4ms/step - loss: 1.6399 - accuracy: 0.6110 - val_loss: 1.6296 - val_accuracy: 0.6100\n",
            "Epoch 11/100\n",
            "16/16 [==============================] - 0s 4ms/step - loss: 1.5585 - accuracy: 0.6360 - val_loss: 1.5528 - val_accuracy: 0.6200\n",
            "Epoch 12/100\n",
            "16/16 [==============================] - 0s 4ms/step - loss: 1.4769 - accuracy: 0.6610 - val_loss: 1.4746 - val_accuracy: 0.6450\n",
            "Epoch 13/100\n",
            "16/16 [==============================] - 0s 4ms/step - loss: 1.3966 - accuracy: 0.6870 - val_loss: 1.3982 - val_accuracy: 0.6550\n",
            "Epoch 14/100\n",
            "16/16 [==============================] - 0s 4ms/step - loss: 1.3193 - accuracy: 0.7000 - val_loss: 1.3269 - val_accuracy: 0.6900\n",
            "Epoch 15/100\n",
            "16/16 [==============================] - 0s 4ms/step - loss: 1.2471 - accuracy: 0.7110 - val_loss: 1.2561 - val_accuracy: 0.7000\n",
            "Epoch 16/100\n",
            "16/16 [==============================] - 0s 4ms/step - loss: 1.1785 - accuracy: 0.7200 - val_loss: 1.1895 - val_accuracy: 0.7100\n",
            "Epoch 17/100\n",
            "16/16 [==============================] - 0s 4ms/step - loss: 1.1167 - accuracy: 0.7330 - val_loss: 1.1333 - val_accuracy: 0.7200\n",
            "Epoch 18/100\n",
            "16/16 [==============================] - 0s 4ms/step - loss: 1.0602 - accuracy: 0.7480 - val_loss: 1.0770 - val_accuracy: 0.7300\n",
            "Epoch 19/100\n",
            "16/16 [==============================] - 0s 4ms/step - loss: 1.0059 - accuracy: 0.7480 - val_loss: 1.0243 - val_accuracy: 0.7500\n",
            "Epoch 20/100\n",
            "16/16 [==============================] - 0s 4ms/step - loss: 0.9560 - accuracy: 0.7630 - val_loss: 0.9762 - val_accuracy: 0.7600\n",
            "Epoch 21/100\n",
            "16/16 [==============================] - 0s 4ms/step - loss: 0.9099 - accuracy: 0.7690 - val_loss: 0.9312 - val_accuracy: 0.7900\n",
            "Epoch 22/100\n",
            "16/16 [==============================] - 0s 4ms/step - loss: 0.8679 - accuracy: 0.7750 - val_loss: 0.8921 - val_accuracy: 0.7800\n",
            "Epoch 23/100\n",
            "16/16 [==============================] - 0s 4ms/step - loss: 0.8304 - accuracy: 0.7790 - val_loss: 0.8533 - val_accuracy: 0.8050\n",
            "Epoch 24/100\n",
            "16/16 [==============================] - 0s 3ms/step - loss: 0.7954 - accuracy: 0.7910 - val_loss: 0.8175 - val_accuracy: 0.8150\n",
            "Epoch 25/100\n",
            "16/16 [==============================] - 0s 4ms/step - loss: 0.7631 - accuracy: 0.7960 - val_loss: 0.7880 - val_accuracy: 0.8200\n",
            "Epoch 26/100\n",
            "16/16 [==============================] - 0s 4ms/step - loss: 0.7341 - accuracy: 0.8080 - val_loss: 0.7576 - val_accuracy: 0.8200\n",
            "Epoch 27/100\n",
            "16/16 [==============================] - 0s 4ms/step - loss: 0.7075 - accuracy: 0.8140 - val_loss: 0.7328 - val_accuracy: 0.8350\n",
            "Epoch 28/100\n",
            "16/16 [==============================] - 0s 4ms/step - loss: 0.6831 - accuracy: 0.8160 - val_loss: 0.7078 - val_accuracy: 0.8450\n",
            "Epoch 29/100\n",
            "16/16 [==============================] - 0s 4ms/step - loss: 0.6603 - accuracy: 0.8270 - val_loss: 0.6867 - val_accuracy: 0.8350\n",
            "Epoch 30/100\n",
            "16/16 [==============================] - 0s 4ms/step - loss: 0.6391 - accuracy: 0.8300 - val_loss: 0.6661 - val_accuracy: 0.8400\n",
            "Epoch 31/100\n",
            "16/16 [==============================] - 0s 4ms/step - loss: 0.6197 - accuracy: 0.8380 - val_loss: 0.6475 - val_accuracy: 0.8500\n",
            "Epoch 32/100\n",
            "16/16 [==============================] - 0s 4ms/step - loss: 0.6012 - accuracy: 0.8370 - val_loss: 0.6287 - val_accuracy: 0.8500\n",
            "Epoch 33/100\n",
            "16/16 [==============================] - 0s 4ms/step - loss: 0.5842 - accuracy: 0.8380 - val_loss: 0.6142 - val_accuracy: 0.8500\n",
            "Epoch 34/100\n",
            "16/16 [==============================] - 0s 4ms/step - loss: 0.5685 - accuracy: 0.8400 - val_loss: 0.6003 - val_accuracy: 0.8550\n",
            "Epoch 35/100\n",
            "16/16 [==============================] - 0s 4ms/step - loss: 0.5538 - accuracy: 0.8450 - val_loss: 0.5854 - val_accuracy: 0.8500\n",
            "Epoch 36/100\n",
            "16/16 [==============================] - 0s 4ms/step - loss: 0.5403 - accuracy: 0.8500 - val_loss: 0.5711 - val_accuracy: 0.8550\n",
            "Epoch 37/100\n",
            "16/16 [==============================] - 0s 4ms/step - loss: 0.5268 - accuracy: 0.8530 - val_loss: 0.5583 - val_accuracy: 0.8550\n",
            "Epoch 38/100\n",
            "16/16 [==============================] - 0s 4ms/step - loss: 0.5149 - accuracy: 0.8590 - val_loss: 0.5473 - val_accuracy: 0.8500\n",
            "Epoch 39/100\n",
            "16/16 [==============================] - 0s 4ms/step - loss: 0.5029 - accuracy: 0.8640 - val_loss: 0.5371 - val_accuracy: 0.8600\n",
            "Epoch 40/100\n",
            "16/16 [==============================] - 0s 4ms/step - loss: 0.4925 - accuracy: 0.8620 - val_loss: 0.5271 - val_accuracy: 0.8650\n",
            "Epoch 41/100\n",
            "16/16 [==============================] - 0s 4ms/step - loss: 0.4821 - accuracy: 0.8670 - val_loss: 0.5178 - val_accuracy: 0.8650\n",
            "Epoch 42/100\n",
            "16/16 [==============================] - 0s 4ms/step - loss: 0.4727 - accuracy: 0.8690 - val_loss: 0.5076 - val_accuracy: 0.8600\n",
            "Epoch 43/100\n",
            "16/16 [==============================] - 0s 4ms/step - loss: 0.4642 - accuracy: 0.8700 - val_loss: 0.4986 - val_accuracy: 0.8650\n",
            "Epoch 44/100\n",
            "16/16 [==============================] - 0s 4ms/step - loss: 0.4546 - accuracy: 0.8710 - val_loss: 0.4911 - val_accuracy: 0.8600\n",
            "Epoch 45/100\n",
            "16/16 [==============================] - 0s 4ms/step - loss: 0.4465 - accuracy: 0.8720 - val_loss: 0.4833 - val_accuracy: 0.8650\n",
            "Epoch 46/100\n",
            "16/16 [==============================] - 0s 4ms/step - loss: 0.4387 - accuracy: 0.8710 - val_loss: 0.4754 - val_accuracy: 0.8650\n",
            "Epoch 47/100\n",
            "16/16 [==============================] - 0s 4ms/step - loss: 0.4306 - accuracy: 0.8770 - val_loss: 0.4687 - val_accuracy: 0.8650\n",
            "Epoch 48/100\n",
            "16/16 [==============================] - 0s 3ms/step - loss: 0.4231 - accuracy: 0.8750 - val_loss: 0.4632 - val_accuracy: 0.8750\n",
            "Epoch 49/100\n",
            "16/16 [==============================] - 0s 4ms/step - loss: 0.4163 - accuracy: 0.8790 - val_loss: 0.4562 - val_accuracy: 0.8800\n",
            "Epoch 50/100\n",
            "16/16 [==============================] - 0s 4ms/step - loss: 0.4101 - accuracy: 0.8820 - val_loss: 0.4506 - val_accuracy: 0.8750\n",
            "Epoch 51/100\n",
            "16/16 [==============================] - 0s 4ms/step - loss: 0.4026 - accuracy: 0.8830 - val_loss: 0.4447 - val_accuracy: 0.8700\n",
            "Epoch 52/100\n",
            "16/16 [==============================] - 0s 4ms/step - loss: 0.3971 - accuracy: 0.8840 - val_loss: 0.4392 - val_accuracy: 0.8700\n",
            "Epoch 53/100\n",
            "16/16 [==============================] - 0s 4ms/step - loss: 0.3911 - accuracy: 0.8840 - val_loss: 0.4340 - val_accuracy: 0.8700\n",
            "Epoch 54/100\n",
            "16/16 [==============================] - 0s 4ms/step - loss: 0.3859 - accuracy: 0.8860 - val_loss: 0.4301 - val_accuracy: 0.8800\n",
            "Epoch 55/100\n",
            "16/16 [==============================] - 0s 4ms/step - loss: 0.3803 - accuracy: 0.8870 - val_loss: 0.4251 - val_accuracy: 0.8850\n",
            "Epoch 56/100\n",
            "16/16 [==============================] - 0s 4ms/step - loss: 0.3757 - accuracy: 0.8920 - val_loss: 0.4199 - val_accuracy: 0.8850\n",
            "Epoch 57/100\n",
            "16/16 [==============================] - 0s 4ms/step - loss: 0.3704 - accuracy: 0.8890 - val_loss: 0.4178 - val_accuracy: 0.8950\n",
            "Epoch 58/100\n",
            "16/16 [==============================] - 0s 4ms/step - loss: 0.3659 - accuracy: 0.8880 - val_loss: 0.4110 - val_accuracy: 0.8800\n",
            "Epoch 59/100\n",
            "16/16 [==============================] - 0s 4ms/step - loss: 0.3613 - accuracy: 0.8910 - val_loss: 0.4054 - val_accuracy: 0.8800\n",
            "Epoch 60/100\n",
            "16/16 [==============================] - 0s 4ms/step - loss: 0.3569 - accuracy: 0.8930 - val_loss: 0.4020 - val_accuracy: 0.8850\n",
            "Epoch 61/100\n",
            "16/16 [==============================] - 0s 4ms/step - loss: 0.3524 - accuracy: 0.8930 - val_loss: 0.3996 - val_accuracy: 0.8950\n",
            "Epoch 62/100\n",
            "16/16 [==============================] - 0s 4ms/step - loss: 0.3489 - accuracy: 0.8950 - val_loss: 0.3961 - val_accuracy: 0.8950\n",
            "Epoch 63/100\n",
            "16/16 [==============================] - 0s 4ms/step - loss: 0.3443 - accuracy: 0.8940 - val_loss: 0.3932 - val_accuracy: 0.8950\n",
            "Epoch 64/100\n",
            "16/16 [==============================] - 0s 4ms/step - loss: 0.3405 - accuracy: 0.8990 - val_loss: 0.3894 - val_accuracy: 0.8950\n",
            "Epoch 65/100\n",
            "16/16 [==============================] - 0s 4ms/step - loss: 0.3368 - accuracy: 0.9010 - val_loss: 0.3856 - val_accuracy: 0.8950\n",
            "Epoch 66/100\n",
            "16/16 [==============================] - 0s 4ms/step - loss: 0.3330 - accuracy: 0.9000 - val_loss: 0.3825 - val_accuracy: 0.8950\n",
            "Epoch 67/100\n",
            "16/16 [==============================] - 0s 4ms/step - loss: 0.3292 - accuracy: 0.9050 - val_loss: 0.3801 - val_accuracy: 0.8950\n",
            "Epoch 68/100\n",
            "16/16 [==============================] - 0s 4ms/step - loss: 0.3257 - accuracy: 0.9030 - val_loss: 0.3757 - val_accuracy: 0.9000\n",
            "Epoch 69/100\n",
            "16/16 [==============================] - 0s 4ms/step - loss: 0.3225 - accuracy: 0.8990 - val_loss: 0.3747 - val_accuracy: 0.9000\n",
            "Epoch 70/100\n",
            "16/16 [==============================] - 0s 5ms/step - loss: 0.3192 - accuracy: 0.9050 - val_loss: 0.3706 - val_accuracy: 0.9000\n",
            "Epoch 71/100\n",
            "16/16 [==============================] - 0s 5ms/step - loss: 0.3161 - accuracy: 0.9090 - val_loss: 0.3682 - val_accuracy: 0.8950\n",
            "Epoch 72/100\n",
            "16/16 [==============================] - 0s 4ms/step - loss: 0.3134 - accuracy: 0.9040 - val_loss: 0.3670 - val_accuracy: 0.8950\n",
            "Epoch 73/100\n",
            "16/16 [==============================] - 0s 4ms/step - loss: 0.3104 - accuracy: 0.9060 - val_loss: 0.3649 - val_accuracy: 0.9000\n",
            "Epoch 74/100\n",
            "16/16 [==============================] - 0s 4ms/step - loss: 0.3077 - accuracy: 0.9080 - val_loss: 0.3635 - val_accuracy: 0.8900\n",
            "Epoch 75/100\n",
            "16/16 [==============================] - 0s 4ms/step - loss: 0.3045 - accuracy: 0.9110 - val_loss: 0.3612 - val_accuracy: 0.8900\n",
            "Epoch 76/100\n",
            "16/16 [==============================] - 0s 4ms/step - loss: 0.3022 - accuracy: 0.9040 - val_loss: 0.3590 - val_accuracy: 0.9000\n",
            "Epoch 77/100\n",
            "16/16 [==============================] - 0s 5ms/step - loss: 0.2991 - accuracy: 0.9080 - val_loss: 0.3571 - val_accuracy: 0.8900\n",
            "Epoch 78/100\n",
            "16/16 [==============================] - 0s 4ms/step - loss: 0.2971 - accuracy: 0.9040 - val_loss: 0.3523 - val_accuracy: 0.8950\n",
            "Epoch 79/100\n",
            "16/16 [==============================] - 0s 5ms/step - loss: 0.2955 - accuracy: 0.9100 - val_loss: 0.3514 - val_accuracy: 0.8900\n",
            "Epoch 80/100\n",
            "16/16 [==============================] - 0s 4ms/step - loss: 0.2923 - accuracy: 0.9080 - val_loss: 0.3497 - val_accuracy: 0.8900\n",
            "Epoch 81/100\n",
            "16/16 [==============================] - 0s 4ms/step - loss: 0.2895 - accuracy: 0.9080 - val_loss: 0.3483 - val_accuracy: 0.8900\n",
            "Epoch 82/100\n",
            "16/16 [==============================] - 0s 5ms/step - loss: 0.2875 - accuracy: 0.9110 - val_loss: 0.3461 - val_accuracy: 0.8950\n",
            "Epoch 83/100\n",
            "16/16 [==============================] - 0s 4ms/step - loss: 0.2854 - accuracy: 0.9140 - val_loss: 0.3444 - val_accuracy: 0.9000\n",
            "Epoch 84/100\n",
            "16/16 [==============================] - 0s 4ms/step - loss: 0.2828 - accuracy: 0.9110 - val_loss: 0.3424 - val_accuracy: 0.9000\n",
            "Epoch 85/100\n",
            "16/16 [==============================] - 0s 5ms/step - loss: 0.2811 - accuracy: 0.9140 - val_loss: 0.3420 - val_accuracy: 0.8950\n",
            "Epoch 86/100\n",
            "16/16 [==============================] - 0s 4ms/step - loss: 0.2786 - accuracy: 0.9140 - val_loss: 0.3392 - val_accuracy: 0.9000\n",
            "Epoch 87/100\n",
            "16/16 [==============================] - 0s 4ms/step - loss: 0.2770 - accuracy: 0.9130 - val_loss: 0.3399 - val_accuracy: 0.8950\n",
            "Epoch 88/100\n",
            "16/16 [==============================] - 0s 4ms/step - loss: 0.2749 - accuracy: 0.9150 - val_loss: 0.3388 - val_accuracy: 0.9000\n",
            "Epoch 89/100\n",
            "16/16 [==============================] - 0s 4ms/step - loss: 0.2726 - accuracy: 0.9150 - val_loss: 0.3357 - val_accuracy: 0.9000\n",
            "Epoch 90/100\n",
            "16/16 [==============================] - 0s 4ms/step - loss: 0.2708 - accuracy: 0.9190 - val_loss: 0.3354 - val_accuracy: 0.9100\n",
            "Epoch 91/100\n",
            "16/16 [==============================] - 0s 4ms/step - loss: 0.2692 - accuracy: 0.9200 - val_loss: 0.3342 - val_accuracy: 0.9000\n",
            "Epoch 92/100\n",
            "16/16 [==============================] - 0s 4ms/step - loss: 0.2677 - accuracy: 0.9190 - val_loss: 0.3342 - val_accuracy: 0.9000\n",
            "Epoch 93/100\n",
            "16/16 [==============================] - 0s 4ms/step - loss: 0.2655 - accuracy: 0.9200 - val_loss: 0.3310 - val_accuracy: 0.9000\n",
            "Epoch 94/100\n",
            "16/16 [==============================] - 0s 4ms/step - loss: 0.2641 - accuracy: 0.9190 - val_loss: 0.3311 - val_accuracy: 0.9000\n",
            "Epoch 95/100\n",
            "16/16 [==============================] - 0s 4ms/step - loss: 0.2622 - accuracy: 0.9210 - val_loss: 0.3314 - val_accuracy: 0.9050\n",
            "Epoch 96/100\n",
            "16/16 [==============================] - 0s 4ms/step - loss: 0.2606 - accuracy: 0.9190 - val_loss: 0.3292 - val_accuracy: 0.9050\n",
            "Epoch 97/100\n",
            "16/16 [==============================] - 0s 4ms/step - loss: 0.2591 - accuracy: 0.9260 - val_loss: 0.3292 - val_accuracy: 0.9000\n",
            "Epoch 98/100\n",
            "16/16 [==============================] - 0s 4ms/step - loss: 0.2573 - accuracy: 0.9220 - val_loss: 0.3270 - val_accuracy: 0.8950\n",
            "Epoch 99/100\n",
            "16/16 [==============================] - 0s 4ms/step - loss: 0.2555 - accuracy: 0.9260 - val_loss: 0.3244 - val_accuracy: 0.8900\n",
            "Epoch 100/100\n",
            "16/16 [==============================] - 0s 4ms/step - loss: 0.2547 - accuracy: 0.9210 - val_loss: 0.3249 - val_accuracy: 0.9050\n"
          ]
        }
      ],
      "source": [
        "MLP_model = model.fit(x_train, y_train,\n",
        "          epochs=100,\n",
        "          batch_size=64, validation_data=(x_test, y_test))"
      ]
    },
    {
      "cell_type": "code",
      "execution_count": 13,
      "metadata": {
        "colab": {
          "base_uri": "https://localhost:8080/",
          "height": 447
        },
        "id": "SveCNiLkisTF",
        "outputId": "4f08106c-6847-49c0-fb6e-d19b99290602"
      },
      "outputs": [
        {
          "data": {
            "text/plain": [
              "[<matplotlib.lines.Line2D at 0x143ff67fa10>]"
            ]
          },
          "execution_count": 13,
          "metadata": {},
          "output_type": "execute_result"
        },
        {
          "data": {
            "image/png": "[encoded data removed]",
            "text/plain": [
              "<Figure size 640x480 with 1 Axes>"
            ]
          },
          "metadata": {},
          "output_type": "display_data"
        }
      ],
      "source": [
        "# plot Loss\n",
        "plt.plot(MLP_model.history[\"loss\"])\n",
        "plt.plot(MLP_model.history[\"val_loss\"])"
      ]
    },
    {
      "cell_type": "code",
      "execution_count": 14,
      "metadata": {
        "colab": {
          "base_uri": "https://localhost:8080/",
          "height": 447
        },
        "id": "Cx3VubunisVh",
        "outputId": "f0a325e7-f5ac-448f-9e1a-bea108f8fb69"
      },
      "outputs": [
        {
          "data": {
            "text/plain": [
              "[<matplotlib.lines.Line2D at 0x143ff78d310>]"
            ]
          },
          "execution_count": 14,
          "metadata": {},
          "output_type": "execute_result"
        },
        {
          "data": {
            "image/png": "[encoded data removed]",
            "text/plain": [
              "<Figure size 640x480 with 1 Axes>"
            ]
          },
          "metadata": {},
          "output_type": "display_data"
        }
      ],
      "source": [
        "# plot accuracy\n",
        "plt.plot(MLP_model.history[\"accuracy\"])\n",
        "plt.plot(MLP_model.history[\"val_accuracy\"])"
      ]
    }
  ],
  "metadata": {
    "colab": {
      "provenance": []
    },
    "kernelspec": {
      "display_name": "Python 3",
      "name": "python3"
    },
    "language_info": {
      "codemirror_mode": {
        "name": "ipython",
        "version": 3
      },
      "file_extension": ".py",
      "mimetype": "text/x-python",
      "name": "python",
      "nbconvert_exporter": "python",
      "pygments_lexer": "ipython3",
      "version": "3.11.3"
    }
  },
  "nbformat": 4,
  "nbformat_minor": 0
}
